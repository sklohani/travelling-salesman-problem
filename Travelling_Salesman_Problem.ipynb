{
  "nbformat": 4,
  "nbformat_minor": 0,
  "metadata": {
    "colab": {
      "provenance": []
    },
    "kernelspec": {
      "name": "python3",
      "display_name": "Python 3"
    },
    "language_info": {
      "name": "python"
    }
  },
  "cells": [
    {
      "cell_type": "markdown",
      "source": [
        "## EAI Lab Assignment - 4\n",
        "\n",
        "Shobhit Kumar - 19MCME16"
      ],
      "metadata": {
        "id": "rCRJWA9OzC97"
      }
    },
    {
      "cell_type": "code",
      "execution_count": null,
      "metadata": {
        "id": "btQfjoUC7bVF"
      },
      "outputs": [],
      "source": [
        "import numpy as np\n",
        "from queue import Queue\n",
        "import time"
      ]
    },
    {
      "cell_type": "markdown",
      "source": [
        "### Problem Definition"
      ],
      "metadata": {
        "id": "T3xSV21IzYYX"
      }
    },
    {
      "cell_type": "code",
      "source": [
        "graph = {\n",
        "    \"A\": [(\"B\", 10), (\"C\", 15), (\"D\", 20)],\n",
        "    \"B\": [(\"A\", 10), (\"C\", 35), (\"D\", 25)],\n",
        "    \"C\": [(\"A\", 15), (\"B\", 35), (\"D\", 30)],\n",
        "    \"D\": [(\"A\", 20), (\"B\", 25), (\"C\", 30)]\n",
        "}\n",
        "\n",
        "hueristic = {\n",
        "    \"A\": 0,\n",
        "    \"B\": 105,\n",
        "    \"C\": 110,\n",
        "    \"D\": 100\n",
        "}"
      ],
      "metadata": {
        "id": "loZZ6z_77h6n"
      },
      "execution_count": null,
      "outputs": []
    },
    {
      "cell_type": "code",
      "source": [
        "def is_goal(node, goal, num):\n",
        "    if (len(node[1]) == num):\n",
        "        if (node[0][0] == goal):\n",
        "            return True\n",
        "    return False\n",
        "\n",
        "def print_path(path, goal):\n",
        "    for vertex in path:\n",
        "        print(vertex, end=\" > \")\n",
        "    print(goal)"
      ],
      "metadata": {
        "id": "SjTOfEes7jS9"
      },
      "execution_count": null,
      "outputs": []
    },
    {
      "cell_type": "markdown",
      "source": [
        "### Breadth First Search"
      ],
      "metadata": {
        "id": "wlGPTXGKy7nS"
      }
    },
    {
      "cell_type": "code",
      "source": [
        "def breadth_first_search(graph, start):\n",
        "    goal = start\n",
        "    num = len(graph)\n",
        "    sol_found = False\n",
        "    frontier = Queue()\n",
        "\n",
        "    for node in graph[start]:\n",
        "        frontier.put((node, [start]))\n",
        "\n",
        "    while not frontier.empty():\n",
        "        node = frontier.get()\n",
        "\n",
        "        # Checking if node is goal node\n",
        "        if (is_goal(node, goal, num)):\n",
        "            sol_found = True\n",
        "            print(\"Found Solution\")\n",
        "            print_path(node[1], goal)\n",
        "            return\n",
        "\n",
        "        # print(node)\n",
        "        # Expanding the tree\n",
        "        for vertex in graph[node[0][0]]:\n",
        "            visited_vertex = node[1].copy()\n",
        "\n",
        "            visited_vertex.append(node[0][0])\n",
        "            if (vertex[0] == goal):\n",
        "                if (len(visited_vertex) == num):\n",
        "                    frontier.put((vertex, visited_vertex))\n",
        "            else:\n",
        "                if (vertex[0] not in visited_vertex):\n",
        "                    frontier.put((vertex, visited_vertex))\n",
        "            \n",
        "    if not sol_found:\n",
        "        print(\"Solution not Found!\")"
      ],
      "metadata": {
        "id": "XuE59hD37mnE"
      },
      "execution_count": null,
      "outputs": []
    },
    {
      "cell_type": "code",
      "source": [
        "breadth_first_search(graph, \"A\")"
      ],
      "metadata": {
        "colab": {
          "base_uri": "https://localhost:8080/"
        },
        "id": "JSucu-Sy7qP5",
        "outputId": "e51a7ed3-0d6a-4442-ea56-d5b9a7f2d88e"
      },
      "execution_count": null,
      "outputs": [
        {
          "output_type": "stream",
          "name": "stdout",
          "text": [
            "Found Solution\n",
            "A > B > C > D > A\n"
          ]
        }
      ]
    },
    {
      "cell_type": "markdown",
      "source": [
        "### Depth First Search"
      ],
      "metadata": {
        "id": "AJMU1i1Az9Zi"
      }
    },
    {
      "cell_type": "code",
      "source": [
        "def depth_first_search(graph, start):\n",
        "    goal = start\n",
        "    num = len(graph)\n",
        "    sol_found = False\n",
        "    frontier = []\n",
        "\n",
        "    for node in graph[start]:\n",
        "        frontier.append((node, [start]))\n",
        "\n",
        "    while len(frontier) != 0:\n",
        "        node = frontier.pop()\n",
        "\n",
        "        # Checking if node is goal node\n",
        "        if (is_goal(node, goal, num)):\n",
        "            sol_found = True\n",
        "            print(\"Found Solution\")\n",
        "            print_path(node[1], goal)\n",
        "            return\n",
        "\n",
        "        # print(node)\n",
        "        # Expanding the tree\n",
        "        for vertex in graph[node[0][0]]:\n",
        "            visited_vertex = node[1].copy()\n",
        "\n",
        "            visited_vertex.append(node[0][0])\n",
        "            if (vertex[0] == goal):\n",
        "                if (len(visited_vertex) == num):\n",
        "                    frontier.append((vertex, visited_vertex))\n",
        "            else:\n",
        "                if (vertex[0] not in visited_vertex):\n",
        "                    frontier.append((vertex, visited_vertex))\n",
        "            \n",
        "    if not sol_found:\n",
        "        print(\"Solution not Found!\")"
      ],
      "metadata": {
        "id": "e4rC6gxI7wmP"
      },
      "execution_count": null,
      "outputs": []
    },
    {
      "cell_type": "code",
      "source": [
        "depth_first_search(graph, \"A\")"
      ],
      "metadata": {
        "colab": {
          "base_uri": "https://localhost:8080/"
        },
        "id": "fQcFVF180KN4",
        "outputId": "1d16c5ca-08d8-4147-a155-88fa90c985ea"
      },
      "execution_count": null,
      "outputs": [
        {
          "output_type": "stream",
          "name": "stdout",
          "text": [
            "Found Solution\n",
            "A > D > C > B > A\n"
          ]
        }
      ]
    },
    {
      "cell_type": "markdown",
      "source": [
        "### Depth Limit Search"
      ],
      "metadata": {
        "id": "uLsFjNZA8EJQ"
      }
    },
    {
      "cell_type": "code",
      "source": [
        "def depth_limit_search(graph, start, limit):\n",
        "    if (limit < 0):\n",
        "        print(\"Invalid Limit!\")\n",
        "        return False\n",
        "\n",
        "    goal = start\n",
        "    num = len(graph)\n",
        "    cost = 0\n",
        "    depth = 0\n",
        "    sol_found = False\n",
        "    frontier = []\n",
        "    \n",
        "    frontier.append(((start, cost), [], depth))\n",
        "\n",
        "    while len(frontier) != 0:\n",
        "        node = frontier.pop()\n",
        "\n",
        "        # Checking if node is goal node\n",
        "        if (is_goal(node, goal, num)):\n",
        "            sol_found = True\n",
        "            print(\"Found Solution\")\n",
        "            print_path(node[1], goal)\n",
        "            return True\n",
        "\n",
        "        # print(node)\n",
        "        # Expanding the tree\n",
        "        for vertex in graph[node[0][0]]:\n",
        "            visited_vertex = node[1].copy()\n",
        "            depth = node[2] + 1\n",
        "            visited_vertex.append(node[0][0])\n",
        "\n",
        "            if (depth <= limit):\n",
        "                if (vertex[0] == goal):\n",
        "                    if (len(visited_vertex) == num):\n",
        "                        frontier.append((vertex, visited_vertex, depth))\n",
        "                else:\n",
        "                    if (vertex[0] not in visited_vertex):\n",
        "                        frontier.append((vertex, visited_vertex, depth))\n",
        "            \n",
        "    if not sol_found:\n",
        "        print(\"Solution not Found!\")\n",
        "        return False"
      ],
      "metadata": {
        "id": "6ynLLWj97_kU"
      },
      "execution_count": null,
      "outputs": []
    },
    {
      "cell_type": "code",
      "source": [
        "depth_limit_search(graph, \"A\", 4)"
      ],
      "metadata": {
        "colab": {
          "base_uri": "https://localhost:8080/"
        },
        "id": "vcKruoyw-nno",
        "outputId": "38574fd6-a44f-4618-c81b-88fc08d4ddd8"
      },
      "execution_count": null,
      "outputs": [
        {
          "output_type": "stream",
          "name": "stdout",
          "text": [
            "Found Solution\n",
            "A > D > C > B > A\n"
          ]
        },
        {
          "output_type": "execute_result",
          "data": {
            "text/plain": [
              "True"
            ]
          },
          "metadata": {},
          "execution_count": 19
        }
      ]
    },
    {
      "cell_type": "markdown",
      "source": [
        "### Iterative Deepening Search"
      ],
      "metadata": {
        "id": "shvk8Ky8-1Fg"
      }
    },
    {
      "cell_type": "code",
      "source": [
        "def iterative_deepening_search(graph, start):\n",
        "    depth = 0\n",
        "    sol_found = False\n",
        "\n",
        "    while not sol_found:\n",
        "        print(f\"Depth: {depth}\")\n",
        "        sol_found = depth_limit_search(graph, start, depth)\n",
        "        depth = depth + 1"
      ],
      "metadata": {
        "id": "sWmaKkEM-82f"
      },
      "execution_count": null,
      "outputs": []
    },
    {
      "cell_type": "code",
      "source": [
        "iterative_deepening_search(graph, \"A\")"
      ],
      "metadata": {
        "colab": {
          "base_uri": "https://localhost:8080/"
        },
        "id": "vJHxy2XaAA6H",
        "outputId": "e5ed8009-7f45-4ea3-a429-3efd94c87823"
      },
      "execution_count": null,
      "outputs": [
        {
          "output_type": "stream",
          "name": "stdout",
          "text": [
            "Depth: 0\n",
            "Solution not Found!\n",
            "Depth: 1\n",
            "Solution not Found!\n",
            "Depth: 2\n",
            "Solution not Found!\n",
            "Depth: 3\n",
            "Solution not Found!\n",
            "Depth: 4\n",
            "Found Solution\n",
            "A > D > C > B > A\n"
          ]
        }
      ]
    },
    {
      "cell_type": "markdown",
      "source": [
        "### Uniform Cost Search"
      ],
      "metadata": {
        "id": "fJPbBEPj0vGo"
      }
    },
    {
      "cell_type": "code",
      "source": [
        "import sys\n",
        "class PriorityQueue:\n",
        "    def __init__(self):\n",
        "        self.queue = []\n",
        "\n",
        "    def empty(self):\n",
        "        return len(self.queue) == 0\n",
        "\n",
        "    def put(self, node):\n",
        "        self.queue.append(node)\n",
        "\n",
        "    def get(self):\n",
        "        try:\n",
        "            priority = sys.maxsize\n",
        "            p_index = 0\n",
        "            for i in range(len(self.queue)):\n",
        "                if self.queue[i][2] < priority:\n",
        "                    priority = self.queue[i][2]\n",
        "                    p_index = i\n",
        "            node = self.queue[p_index]\n",
        "            del self.queue[p_index]\n",
        "            return node\n",
        "        except IndexError:\n",
        "            print(\"Error: IndexError!\")\n",
        "            exit()\n",
        "\n",
        "    def emptyQueue(self):\n",
        "        while not self.empty():\n",
        "            self.get()"
      ],
      "metadata": {
        "id": "EmgIxqPO0Qei"
      },
      "execution_count": null,
      "outputs": []
    },
    {
      "cell_type": "code",
      "source": [
        "def uniform_cost_search(graph, start):\n",
        "    goal = start\n",
        "    num = len(graph)\n",
        "    cost = 0\n",
        "    sol_found = False\n",
        "    frontier = PriorityQueue()\n",
        "\n",
        "    frontier.put(((start, cost), [], cost))\n",
        "\n",
        "    while not frontier.empty():\n",
        "        node = frontier.get()\n",
        "\n",
        "        # Checking if node is goal node\n",
        "        if (is_goal(node, goal, num)):\n",
        "            sol_found = True\n",
        "            print(\"Found Solution\")\n",
        "            print_path(node[1], goal)\n",
        "            print(f'Cost: {node[2]}')\n",
        "            continue\n",
        "\n",
        "        # print(node)\n",
        "        # Expanding the tree\n",
        "        for vertex in graph[node[0][0]]:\n",
        "            visited_vertex = node[1].copy()\n",
        "            path_cost = node[2] + vertex[1]\n",
        "\n",
        "            visited_vertex.append(node[0][0])\n",
        "            if (vertex[0] == goal):\n",
        "                if (len(visited_vertex) == num):\n",
        "                    frontier.put((vertex, visited_vertex, path_cost))\n",
        "            else:\n",
        "                if (vertex[0] not in visited_vertex):\n",
        "                    frontier.put((vertex, visited_vertex, path_cost))\n",
        "            \n",
        "    if not sol_found:\n",
        "        print(\"Solution not Found!\")"
      ],
      "metadata": {
        "id": "fKEc4r5R1Cib"
      },
      "execution_count": null,
      "outputs": []
    },
    {
      "cell_type": "code",
      "source": [
        "uniform_cost_search(graph, \"A\")"
      ],
      "metadata": {
        "colab": {
          "base_uri": "https://localhost:8080/"
        },
        "id": "fmxL99745lAg",
        "outputId": "15b9c644-6c69-4571-e681-16df1c3b317c"
      },
      "execution_count": null,
      "outputs": [
        {
          "output_type": "stream",
          "name": "stdout",
          "text": [
            "Found Solution\n",
            "A > B > D > C > A\n",
            "Cost: 80\n",
            "Found Solution\n",
            "A > C > D > B > A\n",
            "Cost: 80\n",
            "Found Solution\n",
            "A > B > C > D > A\n",
            "Cost: 95\n",
            "Found Solution\n",
            "A > C > B > D > A\n",
            "Cost: 95\n",
            "Found Solution\n",
            "A > D > B > C > A\n",
            "Cost: 95\n",
            "Found Solution\n",
            "A > D > C > B > A\n",
            "Cost: 95\n"
          ]
        }
      ]
    },
    {
      "cell_type": "markdown",
      "source": [
        "### Greedy Best First Search"
      ],
      "metadata": {
        "id": "hYhR1MTDkOr2"
      }
    },
    {
      "cell_type": "code",
      "source": [
        "def greedy_bsf(graph, start):\n",
        "    goal = start\n",
        "    num = len(graph)\n",
        "    cost = hueristic[start]\n",
        "    sol_found = False\n",
        "    frontier = PriorityQueue()\n",
        "\n",
        "    frontier.put(((start, cost), [], cost))\n",
        "\n",
        "    while not frontier.empty():\n",
        "        node = frontier.get()\n",
        "\n",
        "        # Checking if node is goal node\n",
        "        if (is_goal(node, goal, num)):\n",
        "            sol_found = True\n",
        "            print(\"Found Solution\")\n",
        "            print_path(node[1], goal)\n",
        "            print(f'Cost: {node[2]}')\n",
        "            return\n",
        "\n",
        "        print(node)\n",
        "        # Expanding the tree\n",
        "        for vertex in graph[node[0][0]]:\n",
        "            visited_vertex = node[1].copy()\n",
        "            path_cost = hueristic[vertex[0]]\n",
        "\n",
        "            visited_vertex.append(node[0][0])\n",
        "            if (vertex[0] == goal):\n",
        "                if (len(visited_vertex) == num):\n",
        "                    frontier.put((vertex, visited_vertex, path_cost))\n",
        "            else:\n",
        "                if (vertex[0] not in visited_vertex):\n",
        "                    frontier.put((vertex, visited_vertex, path_cost))\n",
        "            \n",
        "    if not sol_found:\n",
        "        print(\"Solution not Found!\")"
      ],
      "metadata": {
        "id": "4_kP32Or5oFT"
      },
      "execution_count": null,
      "outputs": []
    },
    {
      "cell_type": "code",
      "source": [
        "greedy_bsf(graph, \"A\")"
      ],
      "metadata": {
        "colab": {
          "base_uri": "https://localhost:8080/"
        },
        "id": "PaVoq4bcnXQz",
        "outputId": "84ff8a62-e399-4c21-b58c-0c1085a7e293"
      },
      "execution_count": null,
      "outputs": [
        {
          "output_type": "stream",
          "name": "stdout",
          "text": [
            "(('A', 0), [], 0)\n",
            "(('D', 20), ['A'], 100)\n",
            "(('B', 10), ['A'], 105)\n",
            "(('D', 25), ['A', 'B'], 100)\n",
            "(('B', 25), ['A', 'D'], 105)\n",
            "(('C', 15), ['A'], 110)\n",
            "(('D', 30), ['A', 'C'], 100)\n",
            "(('B', 35), ['A', 'C'], 105)\n",
            "(('D', 25), ['A', 'C', 'B'], 100)\n",
            "Found Solution\n",
            "A > C > B > D > A\n",
            "Cost: 0\n"
          ]
        }
      ]
    },
    {
      "cell_type": "markdown",
      "source": [
        "### A* Search"
      ],
      "metadata": {
        "id": "Aml5ZKsWsFrC"
      }
    },
    {
      "cell_type": "code",
      "source": [
        "def a_star(graph, start):\n",
        "    goal = start\n",
        "    num = len(graph)\n",
        "    path_cost = 0\n",
        "    cost = hueristic[start] + path_cost\n",
        "    sol_found = False\n",
        "    frontier = PriorityQueue()\n",
        "\n",
        "    frontier.put(((start, cost), [], cost, path_cost))\n",
        "\n",
        "    while not frontier.empty():\n",
        "        node = frontier.get()\n",
        "\n",
        "        # Checking if node is goal node\n",
        "        if (is_goal(node, goal, num)):\n",
        "            sol_found = True\n",
        "            print(\"Found Solution\")\n",
        "            print_path(node[1], goal)\n",
        "            print(f'Cost: {node[2]}')\n",
        "            continue\n",
        "\n",
        "        # print(node)\n",
        "        # Expanding the tree\n",
        "        for vertex in graph[node[0][0]]:\n",
        "            visited_vertex = node[1].copy()\n",
        "            path_cost = node[3] + vertex[1]\n",
        "            cost = path_cost + hueristic[vertex[0]]\n",
        "\n",
        "            visited_vertex.append(node[0][0])\n",
        "            if (vertex[0] == goal):\n",
        "                if (len(visited_vertex) == num):\n",
        "                    frontier.put((vertex, visited_vertex, cost, path_cost))\n",
        "            else:\n",
        "                if (vertex[0] not in visited_vertex):\n",
        "                    frontier.put((vertex, visited_vertex, cost, path_cost))\n",
        "            \n",
        "    if not sol_found:\n",
        "        print(\"Solution not Found!\")"
      ],
      "metadata": {
        "id": "3EB9erWqnfy8"
      },
      "execution_count": null,
      "outputs": []
    },
    {
      "cell_type": "code",
      "source": [
        "a_star(graph, \"A\")"
      ],
      "metadata": {
        "colab": {
          "base_uri": "https://localhost:8080/"
        },
        "id": "kl7VbXH-b4NS",
        "outputId": "b863731f-a5fc-43e4-ee18-d21923b040a8"
      },
      "execution_count": null,
      "outputs": [
        {
          "output_type": "stream",
          "name": "stdout",
          "text": [
            "Found Solution\n",
            "A > B > D > C > A\n",
            "Cost: 80\n",
            "Found Solution\n",
            "A > C > D > B > A\n",
            "Cost: 80\n",
            "Found Solution\n",
            "A > B > C > D > A\n",
            "Cost: 95\n",
            "Found Solution\n",
            "A > C > B > D > A\n",
            "Cost: 95\n",
            "Found Solution\n",
            "A > D > B > C > A\n",
            "Cost: 95\n",
            "Found Solution\n",
            "A > D > C > B > A\n",
            "Cost: 95\n"
          ]
        }
      ]
    },
    {
      "cell_type": "markdown",
      "source": [
        "### Hill Climbing Search"
      ],
      "metadata": {
        "id": "PEsIE7cMBLlV"
      }
    },
    {
      "cell_type": "code",
      "source": [
        "def hill_climbing(graph, start):\n",
        "    goal = start\n",
        "    num = len(graph)\n",
        "    path_cost = 0\n",
        "    cost = hueristic[start] + path_cost\n",
        "    sol_found = False\n",
        "    frontier = PriorityQueue()\n",
        "\n",
        "    frontier.put(((start, cost), [], cost, path_cost))\n",
        "\n",
        "    while not frontier.empty():\n",
        "        # Get the best node\n",
        "        node = frontier.get()\n",
        "\n",
        "        # Empty the queue\n",
        "        frontier.emptyQueue()\n",
        "\n",
        "        # Checking if node is goal node\n",
        "        if (is_goal(node, goal, num)):\n",
        "            sol_found = True\n",
        "            print(\"Found Solution\")\n",
        "            print_path(node[1], goal)\n",
        "            print(f'Cost: {node[2]}')\n",
        "            return\n",
        "\n",
        "        print(node)\n",
        "        # Expanding the tree\n",
        "        for vertex in graph[node[0][0]]:\n",
        "            visited_vertex = node[1].copy()\n",
        "            path_cost = node[3] + vertex[1]\n",
        "            cost = path_cost + hueristic[vertex[0]]\n",
        "\n",
        "            visited_vertex.append(node[0][0])\n",
        "            if (vertex[0] == goal):\n",
        "                if (len(visited_vertex) == num):\n",
        "                    frontier.put((vertex, visited_vertex, cost, path_cost))\n",
        "            else:\n",
        "                if (vertex[0] not in visited_vertex):\n",
        "                    frontier.put((vertex, visited_vertex, cost, path_cost))\n",
        "            \n",
        "    if not sol_found:\n",
        "        print(\"Solution not Found!\")"
      ],
      "metadata": {
        "id": "6ofmIM_JygLL"
      },
      "execution_count": null,
      "outputs": []
    },
    {
      "cell_type": "code",
      "source": [
        "hill_climbing(graph, \"A\")"
      ],
      "metadata": {
        "colab": {
          "base_uri": "https://localhost:8080/"
        },
        "id": "IyWGMkZlPAYN",
        "outputId": "72c7374b-d789-4156-bd6d-df531fdb0e84"
      },
      "execution_count": null,
      "outputs": [
        {
          "output_type": "stream",
          "name": "stdout",
          "text": [
            "(('A', 0), [], 0, 0)\n",
            "(('B', 10), ['A'], 115, 10)\n",
            "(('D', 25), ['A', 'B'], 135, 35)\n",
            "(('C', 30), ['A', 'B', 'D'], 175, 65)\n",
            "Found Solution\n",
            "A > B > D > C > A\n",
            "Cost: 80\n"
          ]
        }
      ]
    },
    {
      "cell_type": "code",
      "source": [],
      "metadata": {
        "id": "zkF-PCZvPFXi"
      },
      "execution_count": null,
      "outputs": []
    }
  ]
}